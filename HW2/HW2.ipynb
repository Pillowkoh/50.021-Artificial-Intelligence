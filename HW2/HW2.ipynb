{
 "cells": [
  {
   "cell_type": "markdown",
   "metadata": {},
   "source": [
    "# HW2: Search\n",
    "\n",
    "## Name: Koh Jun Hao\n",
    "## Student ID: 1004295\n",
    "___"
   ]
  },
  {
   "cell_type": "markdown",
   "metadata": {},
   "source": [
    "## Word Ladders"
   ]
  },
  {
   "cell_type": "code",
   "execution_count": 1,
   "metadata": {},
   "outputs": [],
   "source": [
    "WORDS = set(i.lower().strip() for i in open(\"words2.txt\"))\n",
    "\n",
    "def is_valid_word(word):\n",
    "    return word in WORDS"
   ]
  },
  {
   "cell_type": "code",
   "execution_count": 2,
   "metadata": {},
   "outputs": [],
   "source": [
    "from search import *\n",
    "import string\n",
    "\n",
    "class WordLadder(Problem):\n",
    "\n",
    "    def __init__(self, initial, goal = None):\n",
    "        super().__init__(initial, goal)\n",
    "\n",
    "    def actions(self, state):\n",
    "        \"\"\"Return the actions that can be executed in the given\n",
    "        state. The result would typically be a list, but if there are\n",
    "        many actions, consider yielding them one at a time in an\n",
    "        iterator, rather than building them all at once.\"\"\"\n",
    "        queue = []\n",
    "\n",
    "        word_length = len(state)\n",
    "        for idx in range(word_length):\n",
    "            for alphabet in string.ascii_lowercase:\n",
    "                if state[idx] != alphabet:\n",
    "                    new_word = state[:idx] + alphabet + state[idx+1:]\n",
    "                    if is_valid_word(new_word):\n",
    "                        queue.append(new_word)\n",
    "        return queue\n",
    "\n",
    "    def result(self, state, action):\n",
    "        \"\"\"Return the state that results from executing the given\n",
    "        action in the given state. The action must be one of\n",
    "        self.actions(state).\"\"\"\n",
    "        return action\n",
    "\n",
    "    def goal_test(self, state):\n",
    "        \"\"\"Return True if the state is a goal. The default method compares the\n",
    "        state to self.goal, as specified in the constructor. Override this\n",
    "        method if checking against a single self.goal is not enough.\"\"\"\n",
    "        return state == self.goal\n",
    "\n",
    "    def path_cost(self, c, state1, action, state2):\n",
    "        \"\"\"Return the cost of a solution path that arrives at state2 from\n",
    "        state1 via action, assuming cost c to get up to state1. If the problem\n",
    "        is such that the path doesn't matter, this function will only look at\n",
    "        state2.  If the path does matter, it will consider c and maybe state1\n",
    "        and action. The default method costs 1 for every step in the path.\"\"\"\n",
    "        return c + 1\n",
    "\n",
    "    def value(self, state):\n",
    "        \"\"\"For optimization problems, each state has a value.  Hill-climbing\n",
    "        and related algorithms try to maximize this value.\"\"\"\n",
    "        pass"
   ]
  },
  {
   "cell_type": "code",
   "execution_count": 3,
   "metadata": {},
   "outputs": [],
   "source": [
    "def get_solution(word_ladder):\n",
    "    try:\n",
    "        solution = breadth_first_tree_search(word_ladder).solution()\n",
    "\n",
    "        if solution != \"\":\n",
    "            print(\"initial state:'{}'\".format(str(word_ladder.initial)) + \" -> \" + \"actions:{}\".format(solution))\n",
    "    \n",
    "    except AttributeError:\n",
    "        print(\"initial state:'{}'\".format(str(word_ladder.initial)) + \" -> unable to find any solution\")    "
   ]
  },
  {
   "cell_type": "code",
   "execution_count": 4,
   "metadata": {},
   "outputs": [
    {
     "name": "stdout",
     "output_type": "stream",
     "text": [
      "initial state:'ctrs' -> actions:['cars', 'cats']\n",
      "initial state:'cold' -> actions:['cord', 'word', 'ward', 'warm']\n",
      "initial state:'best' -> actions:['bast', 'mast', 'mash', 'math']\n"
     ]
    }
   ],
   "source": [
    "test_cases = [(\"ctrs\", \"cats\"), (\"cold\", \"warm\"), (\"best\", \"math\")]\n",
    "for test in test_cases:\n",
    "    word_ladder = WordLadder(test[0], test[1])\n",
    "    get_solution(word_ladder=word_ladder)"
   ]
  },
  {
   "cell_type": "markdown",
   "metadata": {},
   "source": [
    "___\n",
    "## Flight Itinerary"
   ]
  },
  {
   "cell_type": "markdown",
   "metadata": {},
   "source": [
    "### Part 1: State\n",
    "\n",
    "***What is a good choice of state in this problem?***\n",
    "\n",
    "Answer:  \n",
    "- Current city and current time"
   ]
  },
  {
   "cell_type": "markdown",
   "metadata": {},
   "source": [
    "### Part 2: Matches"
   ]
  },
  {
   "cell_type": "code",
   "execution_count": 5,
   "metadata": {},
   "outputs": [],
   "source": [
    "class Flight:\n",
    "    def __init__(self, start_city, start_time, end_city, end_time):\n",
    "        self.start_city = start_city\n",
    "        self.start_time = start_time\n",
    "        2\n",
    "        self.end_city = end_city\n",
    "        self.end_time = end_time\n",
    "\n",
    "    def __str__(self):\n",
    "        return str((self.start_city, self.start_time)) + \"->\" + str((self.end_city, self.end_time))\n",
    "\n",
    "    def matches(self, city_and_time):\n",
    "        city, time = city_and_time\n",
    "        return (self.start_city == city and self.start_time >= time)\n",
    "    \n",
    "    __repr__ = __str__\n",
    "\n",
    "\n",
    "flightDB = [Flight(\"Rome\", 1, \"Paris\", 4),\n",
    "Flight(\"Rome\", 3, \"Madrid\", 5),\n",
    "Flight(\"Rome\", 5, \"Istanbul\", 10),\n",
    "Flight(\"Paris\", 2, \"London\", 4),\n",
    "Flight(\"Paris\", 5, \"Oslo\", 7),\n",
    "Flight(\"Paris\", 5, \"Istanbul\", 9),\n",
    "Flight(\"Madrid\", 7, \"Rabat\", 10),\n",
    "Flight(\"Madrid\", 8, \"London\", 10),\n",
    "Flight(\"Istanbul\", 10, \"Constantinople\", 10)]"
   ]
  },
  {
   "cell_type": "markdown",
   "metadata": {},
   "source": [
    "### Part 3: Flight Itinerary"
   ]
  },
  {
   "cell_type": "code",
   "execution_count": 6,
   "metadata": {},
   "outputs": [],
   "source": [
    "class FlightItinerary(Problem):\n",
    "    def __init__(self, initial, goal=None):\n",
    "        \"\"\"The constructor specifies the initial state, and possibly a goal\n",
    "        state, if there is a unique goal.  Your subclass's constructor can add\n",
    "        other arguments.\"\"\"\n",
    "        self.initial = initial; self.goal = goal\n",
    "\n",
    "    def actions(self, state):\n",
    "        \"\"\"Return the actions that can be executed in the given\n",
    "        state. The result would typically be a list, but if there are\n",
    "        many actions, consider yielding them one at a time in an\n",
    "        iterator, rather than building them all at once.\"\"\"\n",
    "        queue = []\n",
    "        for i in range(len(flightDB)):\n",
    "            if flightDB[i].matches(state):\n",
    "                queue.append((flightDB[i].end_city, flightDB[i].end_time))\n",
    "        return queue\n",
    "\n",
    "    def result(self, state, action):\n",
    "        \"\"\"Return the state that results from executing the given\n",
    "        action in the given state. The action must be one of\n",
    "        self.actions(state).\"\"\"\n",
    "        return action\n",
    "\n",
    "    def goal_test(self, state):\n",
    "        \"\"\"Return True if the state is a goal. The default method compares the\n",
    "        state to self.goal, as specified in the constructor. Override this\n",
    "        method if checking against a single self.goal is not enough.\"\"\"\n",
    "        return (state[0] == self.goal[0] and state[1] <= self.goal[1])\n",
    "\n",
    "    def path_cost(self, c, state1, action, state2):\n",
    "        \"\"\"Return the cost of a solution path that arrives at state2 from\n",
    "        state1 via action, assuming cost c to get up to state1. If the problem\n",
    "        is such that the path doesn't matter, this function will only look at\n",
    "        state2.  If the path does matter, it will consider c and maybe state1\n",
    "        and action. The default method costs 1 for every step in the path.\"\"\"\n",
    "        return state2[1] - state1[1] + c\n",
    "\n",
    "    def value(self, state):\n",
    "        \"\"\"For optimization problems, each state has a value.  Hill-climbing\n",
    "        and related algorithms try to maximize this value.\"\"\"\n",
    "        pass"
   ]
  },
  {
   "cell_type": "code",
   "execution_count": 7,
   "metadata": {},
   "outputs": [],
   "source": [
    "def find_itinerary(start_city, start_time, end_city, deadline):\n",
    "    flight_itinerary = FlightItinerary((start_city, start_time), (end_city, deadline))\n",
    "    try:\n",
    "        plan = depth_first_graph_search(flight_itinerary).solution()\n",
    "        next_city, next_time = plan[0]\n",
    "        for f in range(len(flightDB)):\n",
    "            if flightDB[f].end_time == next_time and flightDB[f].end_city == next_city and flightDB[f].start_city == start_city and flightDB[f].start_time >= start_time:\n",
    "                plan.insert(0, (flightDB[f].start_city, flightDB[f].start_time))\n",
    "    except AttributeError:\n",
    "        return \"Unable to find any possible plan.\"    \n",
    "    return plan"
   ]
  },
  {
   "cell_type": "code",
   "execution_count": 8,
   "metadata": {},
   "outputs": [
    {
     "data": {
      "text/plain": [
       "[('Rome', 5), ('Istanbul', 10)]"
      ]
     },
     "execution_count": 8,
     "metadata": {},
     "output_type": "execute_result"
    }
   ],
   "source": [
    "find_itinerary(\"Rome\", 1, \"Istanbul\", 10)"
   ]
  },
  {
   "cell_type": "markdown",
   "metadata": {},
   "source": [
    "### Part 4: Going Further\n",
    "\n",
    "Ben Bitdiddle wants to find a way to get from Rome at time 1 to Istanbul at\n",
    "the earliest possible time. He decides on a brute-force approach by first calling\n",
    "find itinerary with a deadline of 1, and increasing the deadline by 1 each\n",
    "time until it successfully finds a path.  \n",
    "\n",
    "Will this strategy find the path that arrives the earliest, given that we start at\n",
    "time 1?\n",
    "\n",
    "Answer:  \n",
    "Yes, this strategy will be able to find the path that arrives the earliest as it will \n",
    "loop through all possible deadlines increasingly until a possible solution is found. \n",
    "However, the algorithm may search through many deadlines that do not give a possible flight \n",
    "itinerary plan. Thus, while it is able to find the optimal solution, the algorithm \n",
    "may not be the most efficient one."
   ]
  },
  {
   "cell_type": "code",
   "execution_count": 9,
   "metadata": {},
   "outputs": [],
   "source": [
    "def find_shortest_itinerary(start_city, end_city):\n",
    "    deadline = 1\n",
    "    start_time = 1\n",
    "    plan = find_itinerary(start_city, start_time, end_city, deadline)\n",
    "    while plan == \"Unable to find any possible plan.\":\n",
    "        deadline += 1 \n",
    "        plan = find_itinerary(start_city, start_time, end_city, deadline)\n",
    "    return plan"
   ]
  },
  {
   "cell_type": "code",
   "execution_count": 10,
   "metadata": {},
   "outputs": [
    {
     "data": {
      "text/plain": [
       "[('Rome', 1), ('Paris', 4), ('Istanbul', 9)]"
      ]
     },
     "execution_count": 10,
     "metadata": {},
     "output_type": "execute_result"
    }
   ],
   "source": [
    "find_shortest_itinerary(\"Rome\", \"Istanbul\")"
   ]
  },
  {
   "cell_type": "code",
   "execution_count": 11,
   "metadata": {},
   "outputs": [],
   "source": [
    "def find_shortest_itinerary_challenge(start_city, end_city):\n",
    "    valid_deadlines = set()\n",
    "    start_time = 1\n",
    "    for f in range(len(flightDB)):\n",
    "        if flightDB[f].end_city == end_city:\n",
    "            valid_deadlines.add(flightDB[f].end_time)\n",
    "\n",
    "    valid_deadlines = sorted(valid_deadlines)\n",
    "    \n",
    "    for idx in range(len(valid_deadlines)):\n",
    "        plan = find_itinerary(start_city, start_time, end_city, valid_deadlines[idx])\n",
    "        if plan == \"Unable to find any possible plan.\":\n",
    "            continue\n",
    "        else:\n",
    "            return plan\n",
    "\n",
    "    return \"Unable to find any possible plan.\""
   ]
  },
  {
   "cell_type": "code",
   "execution_count": 12,
   "metadata": {},
   "outputs": [
    {
     "data": {
      "text/plain": [
       "[('Rome', 1), ('Paris', 4), ('Istanbul', 9)]"
      ]
     },
     "execution_count": 12,
     "metadata": {},
     "output_type": "execute_result"
    }
   ],
   "source": [
    "find_shortest_itinerary_challenge(\"Rome\", \"Istanbul\")"
   ]
  }
 ],
 "metadata": {
  "interpreter": {
   "hash": "52634da84371cba311ea128a5ea7cdc41ff074b781779e754b270ff9f8153cee"
  },
  "kernelspec": {
   "display_name": "Python 3.8.2 64-bit",
   "language": "python",
   "name": "python3"
  },
  "language_info": {
   "codemirror_mode": {
    "name": "ipython",
    "version": 3
   },
   "file_extension": ".py",
   "mimetype": "text/x-python",
   "name": "python",
   "nbconvert_exporter": "python",
   "pygments_lexer": "ipython3",
   "version": "3.8.2"
  },
  "orig_nbformat": 4
 },
 "nbformat": 4,
 "nbformat_minor": 2
}
